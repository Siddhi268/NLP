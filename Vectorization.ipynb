{
 "cells": [
  {
   "cell_type": "code",
   "execution_count": 1,
   "metadata": {
    "executionInfo": {
     "elapsed": 870,
     "status": "ok",
     "timestamp": 1632895952344,
     "user": {
      "displayName": "Siddhi Jain",
      "photoUrl": "https://lh3.googleusercontent.com/a/default-user=s64",
      "userId": "11432728588048135758"
     },
     "user_tz": -330
    },
    "id": "4K6D-Bs2BYHF"
   },
   "outputs": [],
   "source": [
    "import pandas as pd"
   ]
  },
  {
   "cell_type": "code",
   "execution_count": 2,
   "metadata": {
    "executionInfo": {
     "elapsed": 17,
     "status": "ok",
     "timestamp": 1632895953169,
     "user": {
      "displayName": "Siddhi Jain",
      "photoUrl": "https://lh3.googleusercontent.com/a/default-user=s64",
      "userId": "11432728588048135758"
     },
     "user_tz": -330
    },
    "id": "qbmiRMEyBp2w"
   },
   "outputs": [],
   "source": [
    "d1=\"I am facing network issue, Please solve the network problem\"\n",
    "d2=\"I am unable to make phone calls\"\n",
    "d3=\"I am shifting, kindly port my number\"\n",
    "d4=\"I want to port my number\""
   ]
  },
  {
   "cell_type": "code",
   "execution_count": 3,
   "metadata": {
    "executionInfo": {
     "elapsed": 19,
     "status": "ok",
     "timestamp": 1632895953171,
     "user": {
      "displayName": "Siddhi Jain",
      "photoUrl": "https://lh3.googleusercontent.com/a/default-user=s64",
      "userId": "11432728588048135758"
     },
     "user_tz": -330
    },
    "id": "fSBL6da0PoK-"
   },
   "outputs": [],
   "source": [
    "corpus=pd.Series([d1,d2,d3,d4])"
   ]
  },
  {
   "cell_type": "code",
   "execution_count": 4,
   "metadata": {
    "colab": {
     "base_uri": "https://localhost:8080/"
    },
    "executionInfo": {
     "elapsed": 19,
     "status": "ok",
     "timestamp": 1632895953173,
     "user": {
      "displayName": "Siddhi Jain",
      "photoUrl": "https://lh3.googleusercontent.com/a/default-user=s64",
      "userId": "11432728588048135758"
     },
     "user_tz": -330
    },
    "id": "HD1R_laRPuda",
    "outputId": "36167d9e-24e2-41e1-9f4b-eb3b850fced7"
   },
   "outputs": [
    {
     "data": {
      "text/plain": [
       "0    I am facing network issue, Please solve the ne...\n",
       "1                      I am unable to make phone calls\n",
       "2                 I am shifting, kindly port my number\n",
       "3                             I want to port my number\n",
       "dtype: object"
      ]
     },
     "execution_count": 4,
     "metadata": {},
     "output_type": "execute_result"
    }
   ],
   "source": [
    "corpus"
   ]
  },
  {
   "cell_type": "code",
   "execution_count": 5,
   "metadata": {
    "executionInfo": {
     "elapsed": 1680,
     "status": "ok",
     "timestamp": 1632895954842,
     "user": {
      "displayName": "Siddhi Jain",
      "photoUrl": "https://lh3.googleusercontent.com/a/default-user=s64",
      "userId": "11432728588048135758"
     },
     "user_tz": -330
    },
    "id": "aoa3S9mUBp5B"
   },
   "outputs": [],
   "source": [
    "import nltk"
   ]
  },
  {
   "cell_type": "code",
   "execution_count": 6,
   "metadata": {
    "colab": {
     "base_uri": "https://localhost:8080/"
    },
    "executionInfo": {
     "elapsed": 1326,
     "status": "ok",
     "timestamp": 1632895956163,
     "user": {
      "displayName": "Siddhi Jain",
      "photoUrl": "https://lh3.googleusercontent.com/a/default-user=s64",
      "userId": "11432728588048135758"
     },
     "user_tz": -330
    },
    "id": "2PtcaSggBp9Y",
    "outputId": "65616d79-d4c8-4118-ddf0-87075adf4be8"
   },
   "outputs": [
    {
     "name": "stdout",
     "output_type": "stream",
     "text": [
      "[nltk_data] Downloading package punkt to /root/nltk_data...\n",
      "[nltk_data]   Unzipping tokenizers/punkt.zip.\n",
      "[nltk_data] Downloading package stopwords to /root/nltk_data...\n",
      "[nltk_data]   Unzipping corpora/stopwords.zip.\n",
      "[nltk_data] Downloading package wordnet to /root/nltk_data...\n",
      "[nltk_data]   Unzipping corpora/wordnet.zip.\n"
     ]
    },
    {
     "data": {
      "text/plain": [
       "True"
      ]
     },
     "execution_count": 6,
     "metadata": {},
     "output_type": "execute_result"
    }
   ],
   "source": [
    "nltk.download('punkt')\n",
    "nltk.download('stopwords')\n",
    "nltk.download('wordnet')"
   ]
  },
  {
   "cell_type": "code",
   "execution_count": 7,
   "metadata": {
    "executionInfo": {
     "elapsed": 31,
     "status": "ok",
     "timestamp": 1632895956165,
     "user": {
      "displayName": "Siddhi Jain",
      "photoUrl": "https://lh3.googleusercontent.com/a/default-user=s64",
      "userId": "11432728588048135758"
     },
     "user_tz": -330
    },
    "id": "JO-C5RuXCgnL"
   },
   "outputs": [],
   "source": [
    "from nltk.tokenize import word_tokenize\n",
    "from nltk.corpus import stopwords"
   ]
  },
  {
   "cell_type": "markdown",
   "metadata": {
    "id": "G0TYlb3oQO2P"
   },
   "source": [
    "COUNT VECTORIZATION"
   ]
  },
  {
   "cell_type": "code",
   "execution_count": 8,
   "metadata": {
    "executionInfo": {
     "elapsed": 31,
     "status": "ok",
     "timestamp": 1632895956166,
     "user": {
      "displayName": "Siddhi Jain",
      "photoUrl": "https://lh3.googleusercontent.com/a/default-user=s64",
      "userId": "11432728588048135758"
     },
     "user_tz": -330
    },
    "id": "0vDDxa4bCgo4"
   },
   "outputs": [],
   "source": [
    "from sklearn.feature_extraction.text import CountVectorizer"
   ]
  },
  {
   "cell_type": "code",
   "execution_count": 9,
   "metadata": {
    "executionInfo": {
     "elapsed": 31,
     "status": "ok",
     "timestamp": 1632895956167,
     "user": {
      "displayName": "Siddhi Jain",
      "photoUrl": "https://lh3.googleusercontent.com/a/default-user=s64",
      "userId": "11432728588048135758"
     },
     "user_tz": -330
    },
    "id": "nvwOmu_kCgsv"
   },
   "outputs": [],
   "source": [
    "cv=CountVectorizer(stop_words=\"english\")"
   ]
  },
  {
   "cell_type": "code",
   "execution_count": 10,
   "metadata": {
    "executionInfo": {
     "elapsed": 31,
     "status": "ok",
     "timestamp": 1632895956168,
     "user": {
      "displayName": "Siddhi Jain",
      "photoUrl": "https://lh3.googleusercontent.com/a/default-user=s64",
      "userId": "11432728588048135758"
     },
     "user_tz": -330
    },
    "id": "SThoJG6YBp_q"
   },
   "outputs": [],
   "source": [
    "corpus_count=cv.fit_transform(corpus)"
   ]
  },
  {
   "cell_type": "code",
   "execution_count": 11,
   "metadata": {
    "colab": {
     "base_uri": "https://localhost:8080/"
    },
    "executionInfo": {
     "elapsed": 31,
     "status": "ok",
     "timestamp": 1632895956169,
     "user": {
      "displayName": "Siddhi Jain",
      "photoUrl": "https://lh3.googleusercontent.com/a/default-user=s64",
      "userId": "11432728588048135758"
     },
     "user_tz": -330
    },
    "id": "BU521k4PBqDL",
    "outputId": "34eb81fd-f288-429a-a335-96a0d98230b6"
   },
   "outputs": [
    {
     "data": {
      "text/plain": [
       "<4x14 sparse matrix of type '<class 'numpy.int64'>'\n",
       "\twith 16 stored elements in Compressed Sparse Row format>"
      ]
     },
     "execution_count": 11,
     "metadata": {},
     "output_type": "execute_result"
    }
   ],
   "source": [
    "corpus_count"
   ]
  },
  {
   "cell_type": "code",
   "execution_count": 12,
   "metadata": {
    "colab": {
     "base_uri": "https://localhost:8080/"
    },
    "executionInfo": {
     "elapsed": 30,
     "status": "ok",
     "timestamp": 1632895956172,
     "user": {
      "displayName": "Siddhi Jain",
      "photoUrl": "https://lh3.googleusercontent.com/a/default-user=s64",
      "userId": "11432728588048135758"
     },
     "user_tz": -330
    },
    "id": "4gzmLw9gBqGH",
    "outputId": "b1bc0238-335c-422b-d1c7-bb39e22167ae"
   },
   "outputs": [
    {
     "data": {
      "text/plain": [
       "array([[0, 1, 1, 0, 0, 2, 0, 0, 0, 1, 0, 1, 0, 0],\n",
       "       [1, 0, 0, 0, 1, 0, 0, 1, 0, 0, 0, 0, 1, 0],\n",
       "       [0, 0, 0, 1, 0, 0, 1, 0, 1, 0, 1, 0, 0, 0],\n",
       "       [0, 0, 0, 0, 0, 0, 1, 0, 1, 0, 0, 0, 0, 1]])"
      ]
     },
     "execution_count": 12,
     "metadata": {},
     "output_type": "execute_result"
    }
   ],
   "source": [
    "corpus_count.toarray()"
   ]
  },
  {
   "cell_type": "code",
   "execution_count": 13,
   "metadata": {
    "colab": {
     "base_uri": "https://localhost:8080/"
    },
    "executionInfo": {
     "elapsed": 29,
     "status": "ok",
     "timestamp": 1632895956173,
     "user": {
      "displayName": "Siddhi Jain",
      "photoUrl": "https://lh3.googleusercontent.com/a/default-user=s64",
      "userId": "11432728588048135758"
     },
     "user_tz": -330
    },
    "id": "DinhlvtMRLMH",
    "outputId": "c1b024c5-8a67-48ea-dbe3-b55b8eca3c9c"
   },
   "outputs": [
    {
     "data": {
      "text/plain": [
       "['calls',\n",
       " 'facing',\n",
       " 'issue',\n",
       " 'kindly',\n",
       " 'make',\n",
       " 'network',\n",
       " 'number',\n",
       " 'phone',\n",
       " 'port',\n",
       " 'problem',\n",
       " 'shifting',\n",
       " 'solve',\n",
       " 'unable',\n",
       " 'want']"
      ]
     },
     "execution_count": 13,
     "metadata": {},
     "output_type": "execute_result"
    }
   ],
   "source": [
    "cv.get_feature_names()"
   ]
  },
  {
   "cell_type": "code",
   "execution_count": 14,
   "metadata": {
    "colab": {
     "base_uri": "https://localhost:8080/",
     "height": 175
    },
    "executionInfo": {
     "elapsed": 28,
     "status": "ok",
     "timestamp": 1632895956174,
     "user": {
      "displayName": "Siddhi Jain",
      "photoUrl": "https://lh3.googleusercontent.com/a/default-user=s64",
      "userId": "11432728588048135758"
     },
     "user_tz": -330
    },
    "id": "3zpNOp8IRWLi",
    "outputId": "40493784-7234-499a-cae7-2f97d347f9e7"
   },
   "outputs": [
    {
     "data": {
      "text/html": [
       "<div>\n",
       "<style scoped>\n",
       "    .dataframe tbody tr th:only-of-type {\n",
       "        vertical-align: middle;\n",
       "    }\n",
       "\n",
       "    .dataframe tbody tr th {\n",
       "        vertical-align: top;\n",
       "    }\n",
       "\n",
       "    .dataframe thead th {\n",
       "        text-align: right;\n",
       "    }\n",
       "</style>\n",
       "<table border=\"1\" class=\"dataframe\">\n",
       "  <thead>\n",
       "    <tr style=\"text-align: right;\">\n",
       "      <th></th>\n",
       "      <th>calls</th>\n",
       "      <th>facing</th>\n",
       "      <th>issue</th>\n",
       "      <th>kindly</th>\n",
       "      <th>make</th>\n",
       "      <th>network</th>\n",
       "      <th>number</th>\n",
       "      <th>phone</th>\n",
       "      <th>port</th>\n",
       "      <th>problem</th>\n",
       "      <th>shifting</th>\n",
       "      <th>solve</th>\n",
       "      <th>unable</th>\n",
       "      <th>want</th>\n",
       "    </tr>\n",
       "  </thead>\n",
       "  <tbody>\n",
       "    <tr>\n",
       "      <th>0</th>\n",
       "      <td>0</td>\n",
       "      <td>1</td>\n",
       "      <td>1</td>\n",
       "      <td>0</td>\n",
       "      <td>0</td>\n",
       "      <td>2</td>\n",
       "      <td>0</td>\n",
       "      <td>0</td>\n",
       "      <td>0</td>\n",
       "      <td>1</td>\n",
       "      <td>0</td>\n",
       "      <td>1</td>\n",
       "      <td>0</td>\n",
       "      <td>0</td>\n",
       "    </tr>\n",
       "    <tr>\n",
       "      <th>1</th>\n",
       "      <td>1</td>\n",
       "      <td>0</td>\n",
       "      <td>0</td>\n",
       "      <td>0</td>\n",
       "      <td>1</td>\n",
       "      <td>0</td>\n",
       "      <td>0</td>\n",
       "      <td>1</td>\n",
       "      <td>0</td>\n",
       "      <td>0</td>\n",
       "      <td>0</td>\n",
       "      <td>0</td>\n",
       "      <td>1</td>\n",
       "      <td>0</td>\n",
       "    </tr>\n",
       "    <tr>\n",
       "      <th>2</th>\n",
       "      <td>0</td>\n",
       "      <td>0</td>\n",
       "      <td>0</td>\n",
       "      <td>1</td>\n",
       "      <td>0</td>\n",
       "      <td>0</td>\n",
       "      <td>1</td>\n",
       "      <td>0</td>\n",
       "      <td>1</td>\n",
       "      <td>0</td>\n",
       "      <td>1</td>\n",
       "      <td>0</td>\n",
       "      <td>0</td>\n",
       "      <td>0</td>\n",
       "    </tr>\n",
       "    <tr>\n",
       "      <th>3</th>\n",
       "      <td>0</td>\n",
       "      <td>0</td>\n",
       "      <td>0</td>\n",
       "      <td>0</td>\n",
       "      <td>0</td>\n",
       "      <td>0</td>\n",
       "      <td>1</td>\n",
       "      <td>0</td>\n",
       "      <td>1</td>\n",
       "      <td>0</td>\n",
       "      <td>0</td>\n",
       "      <td>0</td>\n",
       "      <td>0</td>\n",
       "      <td>1</td>\n",
       "    </tr>\n",
       "  </tbody>\n",
       "</table>\n",
       "</div>"
      ],
      "text/plain": [
       "   calls  facing  issue  kindly  make  ...  problem  shifting  solve  unable  want\n",
       "0      0       1      1       0     0  ...        1         0      1       0     0\n",
       "1      1       0      0       0     1  ...        0         0      0       1     0\n",
       "2      0       0      0       1     0  ...        0         1      0       0     0\n",
       "3      0       0      0       0     0  ...        0         0      0       0     1\n",
       "\n",
       "[4 rows x 14 columns]"
      ]
     },
     "execution_count": 14,
     "metadata": {},
     "output_type": "execute_result"
    }
   ],
   "source": [
    "pd.DataFrame(corpus_count.toarray(),columns=cv.get_feature_names())"
   ]
  },
  {
   "cell_type": "markdown",
   "metadata": {
    "id": "3av6YvYFSecm"
   },
   "source": [
    "**TF**-**IDF** **VECTORIZATION**"
   ]
  },
  {
   "cell_type": "code",
   "execution_count": 15,
   "metadata": {
    "executionInfo": {
     "elapsed": 28,
     "status": "ok",
     "timestamp": 1632895956176,
     "user": {
      "displayName": "Siddhi Jain",
      "photoUrl": "https://lh3.googleusercontent.com/a/default-user=s64",
      "userId": "11432728588048135758"
     },
     "user_tz": -330
    },
    "id": "OUpj65M8R2gz"
   },
   "outputs": [],
   "source": [
    "from sklearn.feature_extraction.text import TfidfVectorizer"
   ]
  },
  {
   "cell_type": "code",
   "execution_count": 16,
   "metadata": {
    "executionInfo": {
     "elapsed": 28,
     "status": "ok",
     "timestamp": 1632895956177,
     "user": {
      "displayName": "Siddhi Jain",
      "photoUrl": "https://lh3.googleusercontent.com/a/default-user=s64",
      "userId": "11432728588048135758"
     },
     "user_tz": -330
    },
    "id": "G2WKSNlqSwRK"
   },
   "outputs": [],
   "source": [
    "tf=TfidfVectorizer(stop_words=\"english\")"
   ]
  },
  {
   "cell_type": "code",
   "execution_count": 17,
   "metadata": {
    "executionInfo": {
     "elapsed": 29,
     "status": "ok",
     "timestamp": 1632895956179,
     "user": {
      "displayName": "Siddhi Jain",
      "photoUrl": "https://lh3.googleusercontent.com/a/default-user=s64",
      "userId": "11432728588048135758"
     },
     "user_tz": -330
    },
    "id": "iRFOdso6SwTD"
   },
   "outputs": [],
   "source": [
    "corpus_count1=tf.fit_transform(corpus)"
   ]
  },
  {
   "cell_type": "code",
   "execution_count": 18,
   "metadata": {
    "colab": {
     "base_uri": "https://localhost:8080/"
    },
    "executionInfo": {
     "elapsed": 31,
     "status": "ok",
     "timestamp": 1632895956181,
     "user": {
      "displayName": "Siddhi Jain",
      "photoUrl": "https://lh3.googleusercontent.com/a/default-user=s64",
      "userId": "11432728588048135758"
     },
     "user_tz": -330
    },
    "id": "Q6eTxDIySwXU",
    "outputId": "2ed33be1-7bae-4036-9932-2f5baf4b7d0a"
   },
   "outputs": [
    {
     "data": {
      "text/plain": [
       "array([[0.        , 0.35355339, 0.35355339, 0.        , 0.        ,\n",
       "        0.70710678, 0.        , 0.        , 0.        , 0.35355339,\n",
       "        0.        , 0.35355339, 0.        , 0.        ],\n",
       "       [0.5       , 0.        , 0.        , 0.        , 0.5       ,\n",
       "        0.        , 0.        , 0.5       , 0.        , 0.        ,\n",
       "        0.        , 0.        , 0.5       , 0.        ],\n",
       "       [0.        , 0.        , 0.        , 0.55528266, 0.        ,\n",
       "        0.        , 0.43779123, 0.        , 0.43779123, 0.        ,\n",
       "        0.55528266, 0.        , 0.        , 0.        ],\n",
       "       [0.        , 0.        , 0.        , 0.        , 0.        ,\n",
       "        0.        , 0.52640543, 0.        , 0.52640543, 0.        ,\n",
       "        0.        , 0.        , 0.        , 0.66767854]])"
      ]
     },
     "execution_count": 18,
     "metadata": {},
     "output_type": "execute_result"
    }
   ],
   "source": [
    "corpus_count1.toarray()"
   ]
  },
  {
   "cell_type": "code",
   "execution_count": 19,
   "metadata": {
    "colab": {
     "base_uri": "https://localhost:8080/"
    },
    "executionInfo": {
     "elapsed": 31,
     "status": "ok",
     "timestamp": 1632895956183,
     "user": {
      "displayName": "Siddhi Jain",
      "photoUrl": "https://lh3.googleusercontent.com/a/default-user=s64",
      "userId": "11432728588048135758"
     },
     "user_tz": -330
    },
    "id": "OC0CExRITkMI",
    "outputId": "95a26ef7-7257-4128-b532-004f1c608c1b"
   },
   "outputs": [
    {
     "data": {
      "text/plain": [
       "['calls',\n",
       " 'facing',\n",
       " 'issue',\n",
       " 'kindly',\n",
       " 'make',\n",
       " 'network',\n",
       " 'number',\n",
       " 'phone',\n",
       " 'port',\n",
       " 'problem',\n",
       " 'shifting',\n",
       " 'solve',\n",
       " 'unable',\n",
       " 'want']"
      ]
     },
     "execution_count": 19,
     "metadata": {},
     "output_type": "execute_result"
    }
   ],
   "source": [
    "tf.get_feature_names()"
   ]
  },
  {
   "cell_type": "code",
   "execution_count": 20,
   "metadata": {
    "colab": {
     "base_uri": "https://localhost:8080/",
     "height": 175
    },
    "executionInfo": {
     "elapsed": 763,
     "status": "ok",
     "timestamp": 1632895956918,
     "user": {
      "displayName": "Siddhi Jain",
      "photoUrl": "https://lh3.googleusercontent.com/a/default-user=s64",
      "userId": "11432728588048135758"
     },
     "user_tz": -330
    },
    "id": "MsjirdqJTKs5",
    "outputId": "4f742363-72a8-4608-ba83-5e666d1e17a0"
   },
   "outputs": [
    {
     "data": {
      "text/html": [
       "<div>\n",
       "<style scoped>\n",
       "    .dataframe tbody tr th:only-of-type {\n",
       "        vertical-align: middle;\n",
       "    }\n",
       "\n",
       "    .dataframe tbody tr th {\n",
       "        vertical-align: top;\n",
       "    }\n",
       "\n",
       "    .dataframe thead th {\n",
       "        text-align: right;\n",
       "    }\n",
       "</style>\n",
       "<table border=\"1\" class=\"dataframe\">\n",
       "  <thead>\n",
       "    <tr style=\"text-align: right;\">\n",
       "      <th></th>\n",
       "      <th>calls</th>\n",
       "      <th>facing</th>\n",
       "      <th>issue</th>\n",
       "      <th>kindly</th>\n",
       "      <th>make</th>\n",
       "      <th>network</th>\n",
       "      <th>number</th>\n",
       "      <th>phone</th>\n",
       "      <th>port</th>\n",
       "      <th>problem</th>\n",
       "      <th>shifting</th>\n",
       "      <th>solve</th>\n",
       "      <th>unable</th>\n",
       "      <th>want</th>\n",
       "    </tr>\n",
       "  </thead>\n",
       "  <tbody>\n",
       "    <tr>\n",
       "      <th>0</th>\n",
       "      <td>0.0</td>\n",
       "      <td>0.353553</td>\n",
       "      <td>0.353553</td>\n",
       "      <td>0.000000</td>\n",
       "      <td>0.0</td>\n",
       "      <td>0.707107</td>\n",
       "      <td>0.000000</td>\n",
       "      <td>0.0</td>\n",
       "      <td>0.000000</td>\n",
       "      <td>0.353553</td>\n",
       "      <td>0.000000</td>\n",
       "      <td>0.353553</td>\n",
       "      <td>0.0</td>\n",
       "      <td>0.000000</td>\n",
       "    </tr>\n",
       "    <tr>\n",
       "      <th>1</th>\n",
       "      <td>0.5</td>\n",
       "      <td>0.000000</td>\n",
       "      <td>0.000000</td>\n",
       "      <td>0.000000</td>\n",
       "      <td>0.5</td>\n",
       "      <td>0.000000</td>\n",
       "      <td>0.000000</td>\n",
       "      <td>0.5</td>\n",
       "      <td>0.000000</td>\n",
       "      <td>0.000000</td>\n",
       "      <td>0.000000</td>\n",
       "      <td>0.000000</td>\n",
       "      <td>0.5</td>\n",
       "      <td>0.000000</td>\n",
       "    </tr>\n",
       "    <tr>\n",
       "      <th>2</th>\n",
       "      <td>0.0</td>\n",
       "      <td>0.000000</td>\n",
       "      <td>0.000000</td>\n",
       "      <td>0.555283</td>\n",
       "      <td>0.0</td>\n",
       "      <td>0.000000</td>\n",
       "      <td>0.437791</td>\n",
       "      <td>0.0</td>\n",
       "      <td>0.437791</td>\n",
       "      <td>0.000000</td>\n",
       "      <td>0.555283</td>\n",
       "      <td>0.000000</td>\n",
       "      <td>0.0</td>\n",
       "      <td>0.000000</td>\n",
       "    </tr>\n",
       "    <tr>\n",
       "      <th>3</th>\n",
       "      <td>0.0</td>\n",
       "      <td>0.000000</td>\n",
       "      <td>0.000000</td>\n",
       "      <td>0.000000</td>\n",
       "      <td>0.0</td>\n",
       "      <td>0.000000</td>\n",
       "      <td>0.526405</td>\n",
       "      <td>0.0</td>\n",
       "      <td>0.526405</td>\n",
       "      <td>0.000000</td>\n",
       "      <td>0.000000</td>\n",
       "      <td>0.000000</td>\n",
       "      <td>0.0</td>\n",
       "      <td>0.667679</td>\n",
       "    </tr>\n",
       "  </tbody>\n",
       "</table>\n",
       "</div>"
      ],
      "text/plain": [
       "   calls    facing     issue    kindly  ...  shifting     solve  unable      want\n",
       "0    0.0  0.353553  0.353553  0.000000  ...  0.000000  0.353553     0.0  0.000000\n",
       "1    0.5  0.000000  0.000000  0.000000  ...  0.000000  0.000000     0.5  0.000000\n",
       "2    0.0  0.000000  0.000000  0.555283  ...  0.555283  0.000000     0.0  0.000000\n",
       "3    0.0  0.000000  0.000000  0.000000  ...  0.000000  0.000000     0.0  0.667679\n",
       "\n",
       "[4 rows x 14 columns]"
      ]
     },
     "execution_count": 20,
     "metadata": {},
     "output_type": "execute_result"
    }
   ],
   "source": [
    "pd.DataFrame(corpus_count1.toarray(),columns=tf.get_feature_names())"
   ]
  }
 ],
 "metadata": {
  "colab": {
   "authorship_tag": "ABX9TyPb3HDd0Hukf2pG32s3ATwx",
   "collapsed_sections": [],
   "name": "Vectorization.ipynb",
   "provenance": []
  },
  "kernelspec": {
   "display_name": "Python 3",
   "language": "python",
   "name": "python3"
  },
  "language_info": {
   "codemirror_mode": {
    "name": "ipython",
    "version": 3
   },
   "file_extension": ".py",
   "mimetype": "text/x-python",
   "name": "python",
   "nbconvert_exporter": "python",
   "pygments_lexer": "ipython3",
   "version": "3.8.3"
  }
 },
 "nbformat": 4,
 "nbformat_minor": 1
}
