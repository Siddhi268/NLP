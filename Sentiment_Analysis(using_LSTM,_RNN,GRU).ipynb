{
  "nbformat": 4,
  "nbformat_minor": 0,
  "metadata": {
    "colab": {
      "name": "Sentiment_Analysis(using LSTM, RNN,GRU).ipynb",
      "provenance": [],
      "collapsed_sections": []
    },
    "kernelspec": {
      "name": "python3",
      "display_name": "Python 3"
    },
    "language_info": {
      "name": "python"
    }
  },
  "cells": [
    {
      "cell_type": "code",
      "metadata": {
        "id": "DYG7mLfK9QC2"
      },
      "source": [
        "import numpy as np\n",
        "import pandas as pd\n",
        "import matplotlib.pyplot as plt\n",
        "\n",
        "from sklearn.model_selection import train_test_split\n",
        "from sklearn.metrics import classification_report\n",
        "\n",
        "from tensorflow.keras.preprocessing.text import Tokenizer\n",
        "from tensorflow.keras.preprocessing import sequence\n",
        "from sklearn.tree import DecisionTreeClassifier\n",
        "from tensorflow.keras.models import Sequential\n",
        "from tensorflow.keras.layers import Dense,Embedding,SimpleRNN,LSTM,GRU,Bidirectional\n",
        "\n",
        "import warnings\n",
        "warnings.filterwarnings('ignore')"
      ],
      "execution_count": 1,
      "outputs": []
    },
    {
      "cell_type": "code",
      "metadata": {
        "id": "skI1VmM79RHP"
      },
      "source": [
        "df = pd.read_csv('/content/drive/MyDrive/NLP(Classes)/alexa_reviews.tsv',sep='\\t')"
      ],
      "execution_count": 2,
      "outputs": []
    },
    {
      "cell_type": "code",
      "metadata": {
        "id": "tDcG9FTF9RJC",
        "colab": {
          "base_uri": "https://localhost:8080/",
          "height": 206
        },
        "outputId": "758bbd02-536a-4961-f6ea-c85a8561a745"
      },
      "source": [
        "df.head()"
      ],
      "execution_count": 3,
      "outputs": [
        {
          "output_type": "execute_result",
          "data": {
            "text/html": [
              "<div>\n",
              "<style scoped>\n",
              "    .dataframe tbody tr th:only-of-type {\n",
              "        vertical-align: middle;\n",
              "    }\n",
              "\n",
              "    .dataframe tbody tr th {\n",
              "        vertical-align: top;\n",
              "    }\n",
              "\n",
              "    .dataframe thead th {\n",
              "        text-align: right;\n",
              "    }\n",
              "</style>\n",
              "<table border=\"1\" class=\"dataframe\">\n",
              "  <thead>\n",
              "    <tr style=\"text-align: right;\">\n",
              "      <th></th>\n",
              "      <th>Unnamed: 0</th>\n",
              "      <th>verified_reviews</th>\n",
              "      <th>feedback</th>\n",
              "    </tr>\n",
              "  </thead>\n",
              "  <tbody>\n",
              "    <tr>\n",
              "      <th>0</th>\n",
              "      <td>0</td>\n",
              "      <td>Love my Echo!</td>\n",
              "      <td>1</td>\n",
              "    </tr>\n",
              "    <tr>\n",
              "      <th>1</th>\n",
              "      <td>1</td>\n",
              "      <td>Loved it!</td>\n",
              "      <td>1</td>\n",
              "    </tr>\n",
              "    <tr>\n",
              "      <th>2</th>\n",
              "      <td>2</td>\n",
              "      <td>Sometimes while playing a game, you can answer...</td>\n",
              "      <td>1</td>\n",
              "    </tr>\n",
              "    <tr>\n",
              "      <th>3</th>\n",
              "      <td>3</td>\n",
              "      <td>I have had a lot of fun with this thing. My 4 ...</td>\n",
              "      <td>1</td>\n",
              "    </tr>\n",
              "    <tr>\n",
              "      <th>4</th>\n",
              "      <td>4</td>\n",
              "      <td>Music</td>\n",
              "      <td>1</td>\n",
              "    </tr>\n",
              "  </tbody>\n",
              "</table>\n",
              "</div>"
            ],
            "text/plain": [
              "   Unnamed: 0                                   verified_reviews  feedback\n",
              "0           0                                      Love my Echo!         1\n",
              "1           1                                          Loved it!         1\n",
              "2           2  Sometimes while playing a game, you can answer...         1\n",
              "3           3  I have had a lot of fun with this thing. My 4 ...         1\n",
              "4           4                                              Music         1"
            ]
          },
          "metadata": {},
          "execution_count": 3
        }
      ]
    },
    {
      "cell_type": "code",
      "metadata": {
        "id": "BkcGJtRR9RMz",
        "colab": {
          "base_uri": "https://localhost:8080/"
        },
        "outputId": "bce84bc6-389e-470a-cf71-0f32f6389246"
      },
      "source": [
        "df.info()"
      ],
      "execution_count": 4,
      "outputs": [
        {
          "output_type": "stream",
          "name": "stdout",
          "text": [
            "<class 'pandas.core.frame.DataFrame'>\n",
            "RangeIndex: 3150 entries, 0 to 3149\n",
            "Data columns (total 3 columns):\n",
            " #   Column            Non-Null Count  Dtype \n",
            "---  ------            --------------  ----- \n",
            " 0   Unnamed: 0        3150 non-null   int64 \n",
            " 1   verified_reviews  3150 non-null   object\n",
            " 2   feedback          3150 non-null   int64 \n",
            "dtypes: int64(2), object(1)\n",
            "memory usage: 74.0+ KB\n"
          ]
        }
      ]
    },
    {
      "cell_type": "code",
      "metadata": {
        "id": "uHtGtVa69RTs",
        "colab": {
          "base_uri": "https://localhost:8080/"
        },
        "outputId": "b3fe2c76-e140-48b8-c4e4-facacf1fa9fd"
      },
      "source": [
        "df['feedback'].value_counts()"
      ],
      "execution_count": 5,
      "outputs": [
        {
          "output_type": "execute_result",
          "data": {
            "text/plain": [
              "1    2893\n",
              "0     257\n",
              "Name: feedback, dtype: int64"
            ]
          },
          "metadata": {},
          "execution_count": 5
        }
      ]
    },
    {
      "cell_type": "code",
      "metadata": {
        "id": "qYbSzZQG9RXC"
      },
      "source": [
        "X=df['verified_reviews']\n",
        "y=df['feedback']"
      ],
      "execution_count": 6,
      "outputs": []
    },
    {
      "cell_type": "markdown",
      "metadata": {
        "id": "3Ve4eZ2-ovKu"
      },
      "source": [
        "**DIVIDING INTO TRAINING AND TESTING DATA**"
      ]
    },
    {
      "cell_type": "code",
      "metadata": {
        "id": "Vb1cX8nU9RYz"
      },
      "source": [
        "xtrain,xtest,ytrain,ytest=train_test_split(X,y,test_size=0.3,random_state=1)"
      ],
      "execution_count": 7,
      "outputs": []
    },
    {
      "cell_type": "markdown",
      "metadata": {
        "id": "LWmcfYVuoXxY"
      },
      "source": [
        "**TRAIN DATA PRE-PROCESSING**"
      ]
    },
    {
      "cell_type": "code",
      "metadata": {
        "id": "DTx9Jvgf9Rdp"
      },
      "source": [
        "#Tokenization\n",
        "tok=Tokenizer()\n",
        "tok.fit_on_texts(xtrain)"
      ],
      "execution_count": 8,
      "outputs": []
    },
    {
      "cell_type": "code",
      "metadata": {
        "id": "FRESxhJp9Rg7",
        "colab": {
          "base_uri": "https://localhost:8080/"
        },
        "outputId": "8085cf1e-1462-4f1b-a067-8b98f20ee666"
      },
      "source": [
        "#Vocubalary length\n",
        "vocab_len=len(tok.index_word)\n",
        "vocab_len"
      ],
      "execution_count": 9,
      "outputs": [
        {
          "output_type": "execute_result",
          "data": {
            "text/plain": [
              "3632"
            ]
          },
          "metadata": {},
          "execution_count": 9
        }
      ]
    },
    {
      "cell_type": "code",
      "metadata": {
        "id": "eVNOvPnM9RjG"
      },
      "source": [
        "#Text to sequence\n",
        "train_sequence=tok.texts_to_sequences(xtrain)"
      ],
      "execution_count": 10,
      "outputs": []
    },
    {
      "cell_type": "code",
      "metadata": {
        "id": "Yxlgzwlf9Rmg"
      },
      "source": [
        "doc_len=[]\n",
        "for doc in train_sequence:\n",
        "  doc_len.append(len(doc))"
      ],
      "execution_count": 11,
      "outputs": []
    },
    {
      "cell_type": "code",
      "metadata": {
        "id": "ZE725MNx9Ror",
        "colab": {
          "base_uri": "https://localhost:8080/"
        },
        "outputId": "9f454930-263e-4705-aea2-e17807f321a7"
      },
      "source": [
        "np.quantile(doc_len,0.99)"
      ],
      "execution_count": 12,
      "outputs": [
        {
          "output_type": "execute_result",
          "data": {
            "text/plain": [
              "151.96000000000004"
            ]
          },
          "metadata": {},
          "execution_count": 12
        }
      ]
    },
    {
      "cell_type": "code",
      "metadata": {
        "id": "5dVOFsMu9RsH"
      },
      "source": [
        "max_len=151"
      ],
      "execution_count": 13,
      "outputs": []
    },
    {
      "cell_type": "code",
      "metadata": {
        "id": "OVGkd76i9RuM",
        "colab": {
          "base_uri": "https://localhost:8080/"
        },
        "outputId": "3cd602af-84d1-4b16-e772-311889fdd45a"
      },
      "source": [
        "#Padding\n",
        "train_matrix=sequence.pad_sequences(train_sequence,maxlen=max_len)\n",
        "train_matrix"
      ],
      "execution_count": 14,
      "outputs": [
        {
          "output_type": "execute_result",
          "data": {
            "text/plain": [
              "array([[   0,    0,    0, ..., 1234,   19,   44],\n",
              "       [   0,    0,    0, ...,  765,    6, 1521],\n",
              "       [   0,    0,    0, ...,    4,   30,   45],\n",
              "       ...,\n",
              "       [   0,    0,    0, ...,  315,   16,   49],\n",
              "       [   0,    0,    0, ...,    0,  525,  570],\n",
              "       [   0,    0,    0, ...,    1,   11,  141]], dtype=int32)"
            ]
          },
          "metadata": {},
          "execution_count": 14
        }
      ]
    },
    {
      "cell_type": "markdown",
      "metadata": {
        "id": "A5LWKUO5oCcp"
      },
      "source": [
        "**TEST DATA PRE-PROCESSING**"
      ]
    },
    {
      "cell_type": "code",
      "metadata": {
        "id": "X1B2sata9Rxo",
        "colab": {
          "base_uri": "https://localhost:8080/"
        },
        "outputId": "1f0892a0-c655-4a5a-88c7-be41eeeaccc3"
      },
      "source": [
        "test_sequence=tok.texts_to_sequences(xtest)\n",
        "test_matrix=sequence.pad_sequences(test_sequence,maxlen=max_len)\n",
        "test_matrix"
      ],
      "execution_count": 15,
      "outputs": [
        {
          "output_type": "execute_result",
          "data": {
            "text/plain": [
              "array([[  0,   0,   0, ..., 655,  67,   8],\n",
              "       [  0,   0,   0, ...,   4,  50, 976],\n",
              "       [  0,   0,   0, ...,   7, 611, 134],\n",
              "       ...,\n",
              "       [  0,   0,   0, ..., 427,  11,  48],\n",
              "       [  0,   0,   0, ...,  10,   1,  48],\n",
              "       [  0,   0,   0, ..., 482,  15,  24]], dtype=int32)"
            ]
          },
          "metadata": {},
          "execution_count": 15
        }
      ]
    },
    {
      "cell_type": "markdown",
      "metadata": {
        "id": "4Xar0Nt3pERu"
      },
      "source": [
        "**RNN**"
      ]
    },
    {
      "cell_type": "code",
      "metadata": {
        "id": "W0nM31vG9Rzo",
        "colab": {
          "base_uri": "https://localhost:8080/"
        },
        "outputId": "864a2d01-0e78-4daa-9755-719c50d8fd35"
      },
      "source": [
        "#Single layer RNN\n",
        "model=Sequential()\n",
        "model.add(Embedding(vocab_len+1,50,input_length=max_len,mask_zero=True))\n",
        "model.add(SimpleRNN(128))\n",
        "model.add(Dense(64,activation='tanh'))\n",
        "model.add(Dense(1,activation='sigmoid'))\n",
        "model.summary()"
      ],
      "execution_count": 16,
      "outputs": [
        {
          "output_type": "stream",
          "name": "stdout",
          "text": [
            "Model: \"sequential\"\n",
            "_________________________________________________________________\n",
            " Layer (type)                Output Shape              Param #   \n",
            "=================================================================\n",
            " embedding (Embedding)       (None, 151, 50)           181650    \n",
            "                                                                 \n",
            " simple_rnn (SimpleRNN)      (None, 128)               22912     \n",
            "                                                                 \n",
            " dense (Dense)               (None, 64)                8256      \n",
            "                                                                 \n",
            " dense_1 (Dense)             (None, 1)                 65        \n",
            "                                                                 \n",
            "=================================================================\n",
            "Total params: 212,883\n",
            "Trainable params: 212,883\n",
            "Non-trainable params: 0\n",
            "_________________________________________________________________\n"
          ]
        }
      ]
    },
    {
      "cell_type": "code",
      "metadata": {
        "id": "nd6NNH979R3P"
      },
      "source": [
        "model.compile(optimizer=\"adam\",loss=\"binary_crossentropy\")"
      ],
      "execution_count": 17,
      "outputs": []
    },
    {
      "cell_type": "code",
      "metadata": {
        "id": "BbNVB8Id9R5L",
        "colab": {
          "base_uri": "https://localhost:8080/"
        },
        "outputId": "5bbab9a7-b35a-4e75-f6db-f628d29e995d"
      },
      "source": [
        "model.fit(train_matrix,ytrain,epochs=15,batch_size=64)"
      ],
      "execution_count": 18,
      "outputs": [
        {
          "output_type": "stream",
          "name": "stdout",
          "text": [
            "Epoch 1/15\n",
            "35/35 [==============================] - 6s 131ms/step - loss: 0.3669\n",
            "Epoch 2/15\n",
            "35/35 [==============================] - 5s 129ms/step - loss: 0.2806\n",
            "Epoch 3/15\n",
            "35/35 [==============================] - 4s 128ms/step - loss: 0.2498\n",
            "Epoch 4/15\n",
            "35/35 [==============================] - 4s 127ms/step - loss: 0.4683\n",
            "Epoch 5/15\n",
            "35/35 [==============================] - 4s 128ms/step - loss: 0.2708\n",
            "Epoch 6/15\n",
            "35/35 [==============================] - 4s 128ms/step - loss: 0.1565\n",
            "Epoch 7/15\n",
            "35/35 [==============================] - 4s 128ms/step - loss: 0.1134\n",
            "Epoch 8/15\n",
            "35/35 [==============================] - 4s 128ms/step - loss: 0.0854\n",
            "Epoch 9/15\n",
            "35/35 [==============================] - 4s 128ms/step - loss: 0.0596\n",
            "Epoch 10/15\n",
            "35/35 [==============================] - 4s 127ms/step - loss: 0.0455\n",
            "Epoch 11/15\n",
            "35/35 [==============================] - 4s 127ms/step - loss: 0.0350\n",
            "Epoch 12/15\n",
            "35/35 [==============================] - 5s 129ms/step - loss: 0.0281\n",
            "Epoch 13/15\n",
            "35/35 [==============================] - 4s 128ms/step - loss: 0.0225\n",
            "Epoch 14/15\n",
            "35/35 [==============================] - 4s 128ms/step - loss: 0.0203\n",
            "Epoch 15/15\n",
            "35/35 [==============================] - 4s 128ms/step - loss: 0.0197\n"
          ]
        },
        {
          "output_type": "execute_result",
          "data": {
            "text/plain": [
              "<keras.callbacks.History at 0x7f6199472950>"
            ]
          },
          "metadata": {},
          "execution_count": 18
        }
      ]
    },
    {
      "cell_type": "code",
      "metadata": {
        "id": "BxDMjBZY9R8B"
      },
      "source": [
        "ypred=model.predict(test_matrix)"
      ],
      "execution_count": 19,
      "outputs": []
    },
    {
      "cell_type": "code",
      "metadata": {
        "id": "TCcqns-Q9R9_"
      },
      "source": [
        "ypred = np.where(ypred >= 0.5,1,0)"
      ],
      "execution_count": 20,
      "outputs": []
    },
    {
      "cell_type": "code",
      "metadata": {
        "id": "HaCHQ0Kf9SBf",
        "colab": {
          "base_uri": "https://localhost:8080/"
        },
        "outputId": "ac06a089-cac8-4e43-c988-3362e8f79d5e"
      },
      "source": [
        "print(classification_report(ytest,ypred))"
      ],
      "execution_count": 21,
      "outputs": [
        {
          "output_type": "stream",
          "name": "stdout",
          "text": [
            "              precision    recall  f1-score   support\n",
            "\n",
            "           0       0.69      0.27      0.39        73\n",
            "           1       0.94      0.99      0.97       872\n",
            "\n",
            "    accuracy                           0.93       945\n",
            "   macro avg       0.82      0.63      0.68       945\n",
            "weighted avg       0.92      0.93      0.92       945\n",
            "\n"
          ]
        }
      ]
    },
    {
      "cell_type": "code",
      "metadata": {
        "id": "e4r1Sh3h9SDf",
        "colab": {
          "base_uri": "https://localhost:8080/"
        },
        "outputId": "a11ccf10-fb55-42be-b63e-745f95ac978a"
      },
      "source": [
        "#Bidirectional RNN\n",
        "model=Sequential()\n",
        "model.add(Embedding(vocab_len+1,50,input_length=max_len,mask_zero=True))\n",
        "model.add(Bidirectional(SimpleRNN(128)))\n",
        "model.add(Dense(64,activation='tanh'))\n",
        "model.add(Dense(1,activation='sigmoid'))\n",
        "model.summary()"
      ],
      "execution_count": 22,
      "outputs": [
        {
          "output_type": "stream",
          "name": "stdout",
          "text": [
            "Model: \"sequential_1\"\n",
            "_________________________________________________________________\n",
            " Layer (type)                Output Shape              Param #   \n",
            "=================================================================\n",
            " embedding_1 (Embedding)     (None, 151, 50)           181650    \n",
            "                                                                 \n",
            " bidirectional (Bidirectiona  (None, 256)              45824     \n",
            " l)                                                              \n",
            "                                                                 \n",
            " dense_2 (Dense)             (None, 64)                16448     \n",
            "                                                                 \n",
            " dense_3 (Dense)             (None, 1)                 65        \n",
            "                                                                 \n",
            "=================================================================\n",
            "Total params: 243,987\n",
            "Trainable params: 243,987\n",
            "Non-trainable params: 0\n",
            "_________________________________________________________________\n"
          ]
        }
      ]
    },
    {
      "cell_type": "code",
      "metadata": {
        "id": "9LnOBvA89SGV"
      },
      "source": [
        "model.compile(optimizer=\"adam\",loss=\"binary_crossentropy\")"
      ],
      "execution_count": 23,
      "outputs": []
    },
    {
      "cell_type": "code",
      "metadata": {
        "id": "30DYu4xE9SIT",
        "colab": {
          "base_uri": "https://localhost:8080/"
        },
        "outputId": "3f116fce-9aa9-4f8c-db9e-f02131d96d28"
      },
      "source": [
        "model.fit(train_matrix,ytrain,epochs=15,batch_size=64)"
      ],
      "execution_count": 24,
      "outputs": [
        {
          "output_type": "stream",
          "name": "stdout",
          "text": [
            "Epoch 1/15\n",
            "35/35 [==============================] - 10s 226ms/step - loss: 0.3877\n",
            "Epoch 2/15\n",
            "35/35 [==============================] - 8s 224ms/step - loss: 0.2801\n",
            "Epoch 3/15\n",
            "35/35 [==============================] - 8s 225ms/step - loss: 0.2752\n",
            "Epoch 4/15\n",
            "35/35 [==============================] - 8s 225ms/step - loss: 0.2623\n",
            "Epoch 5/15\n",
            "35/35 [==============================] - 8s 226ms/step - loss: 0.3011\n",
            "Epoch 6/15\n",
            "35/35 [==============================] - 8s 225ms/step - loss: 0.2354\n",
            "Epoch 7/15\n",
            "35/35 [==============================] - 8s 225ms/step - loss: 0.2156\n",
            "Epoch 8/15\n",
            "35/35 [==============================] - 8s 225ms/step - loss: 0.1960\n",
            "Epoch 9/15\n",
            "35/35 [==============================] - 8s 224ms/step - loss: 0.1612\n",
            "Epoch 10/15\n",
            "35/35 [==============================] - 8s 224ms/step - loss: 0.1173\n",
            "Epoch 11/15\n",
            "35/35 [==============================] - 8s 226ms/step - loss: 0.0943\n",
            "Epoch 12/15\n",
            "35/35 [==============================] - 8s 226ms/step - loss: 0.0615\n",
            "Epoch 13/15\n",
            "35/35 [==============================] - 8s 225ms/step - loss: 0.0348\n",
            "Epoch 14/15\n",
            "35/35 [==============================] - 8s 224ms/step - loss: 0.0242\n",
            "Epoch 15/15\n",
            "35/35 [==============================] - 8s 225ms/step - loss: 0.0219\n"
          ]
        },
        {
          "output_type": "execute_result",
          "data": {
            "text/plain": [
              "<keras.callbacks.History at 0x7f6199321850>"
            ]
          },
          "metadata": {},
          "execution_count": 24
        }
      ]
    },
    {
      "cell_type": "code",
      "metadata": {
        "id": "X2KWDQWN9SLZ"
      },
      "source": [
        "ypred=model.predict(test_matrix)"
      ],
      "execution_count": 25,
      "outputs": []
    },
    {
      "cell_type": "code",
      "metadata": {
        "id": "ZoNoDQRd9SNc"
      },
      "source": [
        "ypred = np.where(ypred >= 0.5,1,0)"
      ],
      "execution_count": 26,
      "outputs": []
    },
    {
      "cell_type": "code",
      "metadata": {
        "id": "a32dPTR79SQ3",
        "colab": {
          "base_uri": "https://localhost:8080/"
        },
        "outputId": "2527e390-d94b-41eb-8545-ba7c5de58a64"
      },
      "source": [
        "print(classification_report(ytest,ypred))"
      ],
      "execution_count": 27,
      "outputs": [
        {
          "output_type": "stream",
          "name": "stdout",
          "text": [
            "              precision    recall  f1-score   support\n",
            "\n",
            "           0       0.75      0.49      0.60        73\n",
            "           1       0.96      0.99      0.97       872\n",
            "\n",
            "    accuracy                           0.95       945\n",
            "   macro avg       0.85      0.74      0.78       945\n",
            "weighted avg       0.94      0.95      0.94       945\n",
            "\n"
          ]
        }
      ]
    },
    {
      "cell_type": "code",
      "metadata": {
        "colab": {
          "base_uri": "https://localhost:8080/"
        },
        "id": "W98tQeTjN_Am",
        "outputId": "cf9c1ffb-6441-44f3-cde7-515ef42e7ae1"
      },
      "source": [
        "#Multiple layer RNN\n",
        "model=Sequential()\n",
        "model.add(Embedding(vocab_len+1,50,input_length=max_len,mask_zero=True))\n",
        "model.add(SimpleRNN(128,return_sequences=True))\n",
        "model.add(SimpleRNN(64))\n",
        "model.add(Dense(64,activation='tanh'))\n",
        "model.add(Dense(1,activation='sigmoid'))\n",
        "model.summary()"
      ],
      "execution_count": 28,
      "outputs": [
        {
          "output_type": "stream",
          "name": "stdout",
          "text": [
            "Model: \"sequential_2\"\n",
            "_________________________________________________________________\n",
            " Layer (type)                Output Shape              Param #   \n",
            "=================================================================\n",
            " embedding_2 (Embedding)     (None, 151, 50)           181650    \n",
            "                                                                 \n",
            " simple_rnn_2 (SimpleRNN)    (None, 151, 128)          22912     \n",
            "                                                                 \n",
            " simple_rnn_3 (SimpleRNN)    (None, 64)                12352     \n",
            "                                                                 \n",
            " dense_4 (Dense)             (None, 64)                4160      \n",
            "                                                                 \n",
            " dense_5 (Dense)             (None, 1)                 65        \n",
            "                                                                 \n",
            "=================================================================\n",
            "Total params: 221,139\n",
            "Trainable params: 221,139\n",
            "Non-trainable params: 0\n",
            "_________________________________________________________________\n"
          ]
        }
      ]
    },
    {
      "cell_type": "code",
      "metadata": {
        "id": "q_Z4u0rdN_Cv"
      },
      "source": [
        "model.compile(optimizer=\"adam\",loss=\"binary_crossentropy\")"
      ],
      "execution_count": 29,
      "outputs": []
    },
    {
      "cell_type": "code",
      "metadata": {
        "colab": {
          "base_uri": "https://localhost:8080/"
        },
        "id": "OhZ3lKw_N_Fz",
        "outputId": "674bc524-28aa-4d49-a5a9-4ea09cf54e6f"
      },
      "source": [
        "model.fit(train_matrix,ytrain,epochs=15,batch_size=64)"
      ],
      "execution_count": 30,
      "outputs": [
        {
          "output_type": "stream",
          "name": "stdout",
          "text": [
            "Epoch 1/15\n",
            "35/35 [==============================] - 10s 214ms/step - loss: 0.3501\n",
            "Epoch 2/15\n",
            "35/35 [==============================] - 7s 211ms/step - loss: 0.2711\n",
            "Epoch 3/15\n",
            "35/35 [==============================] - 7s 211ms/step - loss: 0.2005\n",
            "Epoch 4/15\n",
            "35/35 [==============================] - 7s 212ms/step - loss: 0.1219\n",
            "Epoch 5/15\n",
            "35/35 [==============================] - 7s 211ms/step - loss: 0.0605\n",
            "Epoch 6/15\n",
            "35/35 [==============================] - 7s 213ms/step - loss: 0.0325\n",
            "Epoch 7/15\n",
            "35/35 [==============================] - 7s 210ms/step - loss: 0.0229\n",
            "Epoch 8/15\n",
            "35/35 [==============================] - 7s 212ms/step - loss: 0.0196\n",
            "Epoch 9/15\n",
            "35/35 [==============================] - 7s 213ms/step - loss: 0.0191\n",
            "Epoch 10/15\n",
            "35/35 [==============================] - 8s 226ms/step - loss: 0.0188\n",
            "Epoch 11/15\n",
            "35/35 [==============================] - 9s 249ms/step - loss: 0.0187\n",
            "Epoch 12/15\n",
            "35/35 [==============================] - 7s 213ms/step - loss: 0.0186\n",
            "Epoch 13/15\n",
            "35/35 [==============================] - 7s 213ms/step - loss: 0.0185\n",
            "Epoch 14/15\n",
            "35/35 [==============================] - 8s 214ms/step - loss: 0.0184\n",
            "Epoch 15/15\n",
            "35/35 [==============================] - 7s 212ms/step - loss: 0.0183\n"
          ]
        },
        {
          "output_type": "execute_result",
          "data": {
            "text/plain": [
              "<keras.callbacks.History at 0x7f6198cb3790>"
            ]
          },
          "metadata": {},
          "execution_count": 30
        }
      ]
    },
    {
      "cell_type": "code",
      "metadata": {
        "id": "XfAx3B1VN_Hh"
      },
      "source": [
        "ypred=model.predict(test_matrix)"
      ],
      "execution_count": 31,
      "outputs": []
    },
    {
      "cell_type": "code",
      "metadata": {
        "id": "q8ovRw4NN_MM"
      },
      "source": [
        "ypred = np.where(ypred >= 0.5,1,0)"
      ],
      "execution_count": 32,
      "outputs": []
    },
    {
      "cell_type": "code",
      "metadata": {
        "colab": {
          "base_uri": "https://localhost:8080/"
        },
        "id": "QkQfvZ7oN_N9",
        "outputId": "64dd3523-54ce-431b-ba31-c844621bcc2d"
      },
      "source": [
        "print(classification_report(ytest,ypred))"
      ],
      "execution_count": 33,
      "outputs": [
        {
          "output_type": "stream",
          "name": "stdout",
          "text": [
            "              precision    recall  f1-score   support\n",
            "\n",
            "           0       0.57      0.36      0.44        73\n",
            "           1       0.95      0.98      0.96       872\n",
            "\n",
            "    accuracy                           0.93       945\n",
            "   macro avg       0.76      0.67      0.70       945\n",
            "weighted avg       0.92      0.93      0.92       945\n",
            "\n"
          ]
        }
      ]
    },
    {
      "cell_type": "markdown",
      "metadata": {
        "id": "0oRRGJH0pJTv"
      },
      "source": [
        "**LSTM**"
      ]
    },
    {
      "cell_type": "code",
      "metadata": {
        "colab": {
          "base_uri": "https://localhost:8080/"
        },
        "id": "1zMVpMSmN_Pv",
        "outputId": "60b9ad27-ee89-427e-aaa4-087f1b861b67"
      },
      "source": [
        "#Single layer LSTM\n",
        "model=Sequential()\n",
        "model.add(Embedding(vocab_len+1,50,input_length=max_len,mask_zero=True))\n",
        "model.add(LSTM(128))\n",
        "model.add(Dense(64,activation='tanh'))\n",
        "model.add(Dense(1,activation='sigmoid'))\n",
        "model.summary()"
      ],
      "execution_count": 34,
      "outputs": [
        {
          "output_type": "stream",
          "name": "stdout",
          "text": [
            "Model: \"sequential_3\"\n",
            "_________________________________________________________________\n",
            " Layer (type)                Output Shape              Param #   \n",
            "=================================================================\n",
            " embedding_3 (Embedding)     (None, 151, 50)           181650    \n",
            "                                                                 \n",
            " lstm (LSTM)                 (None, 128)               91648     \n",
            "                                                                 \n",
            " dense_6 (Dense)             (None, 64)                8256      \n",
            "                                                                 \n",
            " dense_7 (Dense)             (None, 1)                 65        \n",
            "                                                                 \n",
            "=================================================================\n",
            "Total params: 281,619\n",
            "Trainable params: 281,619\n",
            "Non-trainable params: 0\n",
            "_________________________________________________________________\n"
          ]
        }
      ]
    },
    {
      "cell_type": "code",
      "metadata": {
        "id": "K2bXyXPiN_Uw"
      },
      "source": [
        "model.compile(optimizer=\"adam\",loss=\"binary_crossentropy\")"
      ],
      "execution_count": 35,
      "outputs": []
    },
    {
      "cell_type": "code",
      "metadata": {
        "colab": {
          "base_uri": "https://localhost:8080/"
        },
        "id": "H34mOln6N_ZO",
        "outputId": "124ce767-e144-4394-8895-74eae3e9d01c"
      },
      "source": [
        "model.fit(train_matrix,ytrain,epochs=15,batch_size=64)"
      ],
      "execution_count": 36,
      "outputs": [
        {
          "output_type": "stream",
          "name": "stdout",
          "text": [
            "Epoch 1/15\n",
            "35/35 [==============================] - 17s 355ms/step - loss: 0.4495\n",
            "Epoch 2/15\n",
            "35/35 [==============================] - 12s 353ms/step - loss: 0.2353\n",
            "Epoch 3/15\n",
            "35/35 [==============================] - 12s 353ms/step - loss: 0.1417\n",
            "Epoch 4/15\n",
            "35/35 [==============================] - 12s 354ms/step - loss: 0.0804\n",
            "Epoch 5/15\n",
            "35/35 [==============================] - 12s 352ms/step - loss: 0.0428\n",
            "Epoch 6/15\n",
            "35/35 [==============================] - 12s 354ms/step - loss: 0.0302\n",
            "Epoch 7/15\n",
            "35/35 [==============================] - 12s 351ms/step - loss: 0.0291\n",
            "Epoch 8/15\n",
            "35/35 [==============================] - 12s 353ms/step - loss: 0.0209\n",
            "Epoch 9/15\n",
            "35/35 [==============================] - 12s 354ms/step - loss: 0.0196\n",
            "Epoch 10/15\n",
            "35/35 [==============================] - 12s 354ms/step - loss: 0.0190\n",
            "Epoch 11/15\n",
            "35/35 [==============================] - 12s 355ms/step - loss: 0.0187\n",
            "Epoch 12/15\n",
            "35/35 [==============================] - 12s 353ms/step - loss: 0.0185\n",
            "Epoch 13/15\n",
            "35/35 [==============================] - 12s 356ms/step - loss: 0.0184\n",
            "Epoch 14/15\n",
            "35/35 [==============================] - 12s 354ms/step - loss: 0.0184\n",
            "Epoch 15/15\n",
            "35/35 [==============================] - 12s 354ms/step - loss: 0.0183\n"
          ]
        },
        {
          "output_type": "execute_result",
          "data": {
            "text/plain": [
              "<keras.callbacks.History at 0x7f619331e9d0>"
            ]
          },
          "metadata": {},
          "execution_count": 36
        }
      ]
    },
    {
      "cell_type": "code",
      "metadata": {
        "id": "2MkeRfa8N_c4"
      },
      "source": [
        "ypred=model.predict(test_matrix)"
      ],
      "execution_count": 37,
      "outputs": []
    },
    {
      "cell_type": "code",
      "metadata": {
        "id": "q4MAWWwMN_fC"
      },
      "source": [
        "ypred = np.where(ypred >= 0.5,1,0)"
      ],
      "execution_count": 38,
      "outputs": []
    },
    {
      "cell_type": "code",
      "metadata": {
        "colab": {
          "base_uri": "https://localhost:8080/"
        },
        "id": "VQdJbwE6N_ki",
        "outputId": "802ac767-2561-4fc6-caa5-e00c903d8c51"
      },
      "source": [
        "print(classification_report(ytest,ypred))"
      ],
      "execution_count": 39,
      "outputs": [
        {
          "output_type": "stream",
          "name": "stdout",
          "text": [
            "              precision    recall  f1-score   support\n",
            "\n",
            "           0       0.76      0.40      0.52        73\n",
            "           1       0.95      0.99      0.97       872\n",
            "\n",
            "    accuracy                           0.94       945\n",
            "   macro avg       0.86      0.69      0.75       945\n",
            "weighted avg       0.94      0.94      0.94       945\n",
            "\n"
          ]
        }
      ]
    },
    {
      "cell_type": "code",
      "metadata": {
        "colab": {
          "base_uri": "https://localhost:8080/"
        },
        "id": "pw4OqYBGN_mU",
        "outputId": "829412e8-fc58-43ea-84de-f483c19fca37"
      },
      "source": [
        "#Bidirectional LSTM\n",
        "model=Sequential()\n",
        "model.add(Embedding(vocab_len+1,50,input_length=max_len,mask_zero=True))\n",
        "model.add(Bidirectional(LSTM(128)))\n",
        "model.add(Dense(64,activation='tanh'))\n",
        "model.add(Dense(1,activation='sigmoid'))\n",
        "model.summary()"
      ],
      "execution_count": 40,
      "outputs": [
        {
          "output_type": "stream",
          "name": "stdout",
          "text": [
            "Model: \"sequential_4\"\n",
            "_________________________________________________________________\n",
            " Layer (type)                Output Shape              Param #   \n",
            "=================================================================\n",
            " embedding_4 (Embedding)     (None, 151, 50)           181650    \n",
            "                                                                 \n",
            " bidirectional_1 (Bidirectio  (None, 256)              183296    \n",
            " nal)                                                            \n",
            "                                                                 \n",
            " dense_8 (Dense)             (None, 64)                16448     \n",
            "                                                                 \n",
            " dense_9 (Dense)             (None, 1)                 65        \n",
            "                                                                 \n",
            "=================================================================\n",
            "Total params: 381,459\n",
            "Trainable params: 381,459\n",
            "Non-trainable params: 0\n",
            "_________________________________________________________________\n"
          ]
        }
      ]
    },
    {
      "cell_type": "code",
      "metadata": {
        "id": "VxHMSnikPsGQ"
      },
      "source": [
        "model.compile(optimizer=\"adam\",loss=\"binary_crossentropy\")"
      ],
      "execution_count": 41,
      "outputs": []
    },
    {
      "cell_type": "code",
      "metadata": {
        "colab": {
          "base_uri": "https://localhost:8080/"
        },
        "id": "QKXj_ueGPsJV",
        "outputId": "017cccbb-583d-4ea7-ae8b-d21f90f7a72a"
      },
      "source": [
        "model.fit(train_matrix,ytrain,epochs=15,batch_size=64)"
      ],
      "execution_count": 42,
      "outputs": [
        {
          "output_type": "stream",
          "name": "stdout",
          "text": [
            "Epoch 1/15\n",
            "35/35 [==============================] - 30s 622ms/step - loss: 0.3732\n",
            "Epoch 2/15\n",
            "35/35 [==============================] - 22s 621ms/step - loss: 0.1930\n",
            "Epoch 3/15\n",
            "35/35 [==============================] - 22s 618ms/step - loss: 0.0871\n",
            "Epoch 4/15\n",
            "35/35 [==============================] - 22s 623ms/step - loss: 0.0443\n",
            "Epoch 5/15\n",
            "35/35 [==============================] - 22s 624ms/step - loss: 0.0278\n",
            "Epoch 6/15\n",
            "35/35 [==============================] - 22s 626ms/step - loss: 0.0209\n",
            "Epoch 7/15\n",
            "35/35 [==============================] - 22s 623ms/step - loss: 0.0194\n",
            "Epoch 8/15\n",
            "35/35 [==============================] - 22s 621ms/step - loss: 0.0189\n",
            "Epoch 9/15\n",
            "35/35 [==============================] - 22s 622ms/step - loss: 0.0186\n",
            "Epoch 10/15\n",
            "35/35 [==============================] - 22s 623ms/step - loss: 0.0185\n",
            "Epoch 11/15\n",
            "35/35 [==============================] - 22s 618ms/step - loss: 0.0183\n",
            "Epoch 12/15\n",
            "35/35 [==============================] - 22s 622ms/step - loss: 0.0183\n",
            "Epoch 13/15\n",
            "35/35 [==============================] - 22s 621ms/step - loss: 0.0182\n",
            "Epoch 14/15\n",
            "35/35 [==============================] - 22s 623ms/step - loss: 0.0182\n",
            "Epoch 15/15\n",
            "35/35 [==============================] - 22s 623ms/step - loss: 0.0181\n"
          ]
        },
        {
          "output_type": "execute_result",
          "data": {
            "text/plain": [
              "<keras.callbacks.History at 0x7f61923879d0>"
            ]
          },
          "metadata": {},
          "execution_count": 42
        }
      ]
    },
    {
      "cell_type": "code",
      "metadata": {
        "id": "ASc8SKRsPsQ6"
      },
      "source": [
        "ypred=model.predict(test_matrix)"
      ],
      "execution_count": 43,
      "outputs": []
    },
    {
      "cell_type": "code",
      "metadata": {
        "id": "zJiZLpulPsU8"
      },
      "source": [
        "ypred = np.where(ypred >= 0.5,1,0)"
      ],
      "execution_count": 44,
      "outputs": []
    },
    {
      "cell_type": "code",
      "metadata": {
        "colab": {
          "base_uri": "https://localhost:8080/"
        },
        "id": "FjzhOmHSPsXr",
        "outputId": "4e16662c-ded5-4ee6-be33-1c6ce5c35a55"
      },
      "source": [
        "print(classification_report(ytest,ypred))"
      ],
      "execution_count": 45,
      "outputs": [
        {
          "output_type": "stream",
          "name": "stdout",
          "text": [
            "              precision    recall  f1-score   support\n",
            "\n",
            "           0       0.77      0.47      0.58        73\n",
            "           1       0.96      0.99      0.97       872\n",
            "\n",
            "    accuracy                           0.95       945\n",
            "   macro avg       0.86      0.73      0.78       945\n",
            "weighted avg       0.94      0.95      0.94       945\n",
            "\n"
          ]
        }
      ]
    },
    {
      "cell_type": "code",
      "metadata": {
        "colab": {
          "base_uri": "https://localhost:8080/"
        },
        "id": "Wzby-Yip8LJK",
        "outputId": "81e2c6c2-a6db-4a12-b149-4f5474c7304e"
      },
      "source": [
        "#Multi-layer LSTM\n",
        "model=Sequential()\n",
        "model.add(Embedding(vocab_len+1,50,input_length=max_len,mask_zero=True))\n",
        "model.add(LSTM(128,return_sequences=True))\n",
        "model.add(LSTM(128))\n",
        "model.add(Dense(64,activation='tanh'))\n",
        "model.add(Dense(1,activation='sigmoid'))\n",
        "model.summary()"
      ],
      "execution_count": 46,
      "outputs": [
        {
          "output_type": "stream",
          "name": "stdout",
          "text": [
            "Model: \"sequential_5\"\n",
            "_________________________________________________________________\n",
            " Layer (type)                Output Shape              Param #   \n",
            "=================================================================\n",
            " embedding_5 (Embedding)     (None, 151, 50)           181650    \n",
            "                                                                 \n",
            " lstm_2 (LSTM)               (None, 151, 128)          91648     \n",
            "                                                                 \n",
            " lstm_3 (LSTM)               (None, 128)               131584    \n",
            "                                                                 \n",
            " dense_10 (Dense)            (None, 64)                8256      \n",
            "                                                                 \n",
            " dense_11 (Dense)            (None, 1)                 65        \n",
            "                                                                 \n",
            "=================================================================\n",
            "Total params: 413,203\n",
            "Trainable params: 413,203\n",
            "Non-trainable params: 0\n",
            "_________________________________________________________________\n"
          ]
        }
      ]
    },
    {
      "cell_type": "code",
      "metadata": {
        "id": "QK5f55T08LVG"
      },
      "source": [
        "model.compile(optimizer=\"adam\",loss=\"binary_crossentropy\")"
      ],
      "execution_count": 47,
      "outputs": []
    },
    {
      "cell_type": "code",
      "metadata": {
        "colab": {
          "base_uri": "https://localhost:8080/"
        },
        "id": "WzoazvY88LjW",
        "outputId": "487fae00-71ab-477d-c925-0d2c19495438"
      },
      "source": [
        "model.fit(train_matrix,ytrain,epochs=15,batch_size=64)"
      ],
      "execution_count": 48,
      "outputs": [
        {
          "output_type": "stream",
          "name": "stdout",
          "text": [
            "Epoch 1/15\n",
            "35/35 [==============================] - 35s 762ms/step - loss: 0.4060\n",
            "Epoch 2/15\n",
            "35/35 [==============================] - 27s 760ms/step - loss: 0.2251\n",
            "Epoch 3/15\n",
            "35/35 [==============================] - 27s 761ms/step - loss: 0.1101\n",
            "Epoch 4/15\n",
            "35/35 [==============================] - 27s 761ms/step - loss: 0.0605\n",
            "Epoch 5/15\n",
            "35/35 [==============================] - 27s 761ms/step - loss: 0.0329\n",
            "Epoch 6/15\n",
            "35/35 [==============================] - 27s 760ms/step - loss: 0.0247\n",
            "Epoch 7/15\n",
            "35/35 [==============================] - 27s 763ms/step - loss: 0.0215\n",
            "Epoch 8/15\n",
            "35/35 [==============================] - 27s 760ms/step - loss: 0.0199\n",
            "Epoch 9/15\n",
            "35/35 [==============================] - 27s 762ms/step - loss: 0.0191\n",
            "Epoch 10/15\n",
            "35/35 [==============================] - 27s 757ms/step - loss: 0.0188\n",
            "Epoch 11/15\n",
            "35/35 [==============================] - 27s 759ms/step - loss: 0.0186\n",
            "Epoch 12/15\n",
            "35/35 [==============================] - 27s 761ms/step - loss: 0.0185\n",
            "Epoch 13/15\n",
            "35/35 [==============================] - 27s 760ms/step - loss: 0.0183\n",
            "Epoch 14/15\n",
            "35/35 [==============================] - 27s 761ms/step - loss: 0.0182\n",
            "Epoch 15/15\n",
            "35/35 [==============================] - 27s 759ms/step - loss: 0.0182\n"
          ]
        },
        {
          "output_type": "execute_result",
          "data": {
            "text/plain": [
              "<keras.callbacks.History at 0x7f61904969d0>"
            ]
          },
          "metadata": {},
          "execution_count": 48
        }
      ]
    },
    {
      "cell_type": "code",
      "metadata": {
        "id": "XoViXrsQ8LuH"
      },
      "source": [
        "ypred=model.predict(test_matrix)"
      ],
      "execution_count": 49,
      "outputs": []
    },
    {
      "cell_type": "code",
      "metadata": {
        "id": "QNLTTu-w8L8e"
      },
      "source": [
        "ypred = np.where(ypred >= 0.5,1,0)"
      ],
      "execution_count": 50,
      "outputs": []
    },
    {
      "cell_type": "code",
      "metadata": {
        "colab": {
          "base_uri": "https://localhost:8080/"
        },
        "id": "T_mc5Feb8McF",
        "outputId": "a3c22374-a86a-4a33-ecca-3a57488830ca"
      },
      "source": [
        "print(classification_report(ytest,ypred))"
      ],
      "execution_count": 51,
      "outputs": [
        {
          "output_type": "stream",
          "name": "stdout",
          "text": [
            "              precision    recall  f1-score   support\n",
            "\n",
            "           0       0.75      0.45      0.56        73\n",
            "           1       0.96      0.99      0.97       872\n",
            "\n",
            "    accuracy                           0.95       945\n",
            "   macro avg       0.85      0.72      0.77       945\n",
            "weighted avg       0.94      0.95      0.94       945\n",
            "\n"
          ]
        }
      ]
    },
    {
      "cell_type": "markdown",
      "metadata": {
        "id": "t4hj4lNypNra"
      },
      "source": [
        "**GRU**"
      ]
    },
    {
      "cell_type": "code",
      "metadata": {
        "colab": {
          "base_uri": "https://localhost:8080/"
        },
        "id": "Crm2LrlzR6Ps",
        "outputId": "06a3b97b-be2b-41f3-e394-5a5bf7d99ab6"
      },
      "source": [
        "#GRU\n",
        "model=Sequential()\n",
        "model.add(Embedding(vocab_len+1,50,input_length=max_len,mask_zero=True))\n",
        "model.add(GRU(128))\n",
        "model.add(Dense(64,activation='tanh'))\n",
        "model.add(Dense(1,activation='sigmoid'))\n",
        "model.summary()"
      ],
      "execution_count": 52,
      "outputs": [
        {
          "output_type": "stream",
          "name": "stdout",
          "text": [
            "Model: \"sequential_6\"\n",
            "_________________________________________________________________\n",
            " Layer (type)                Output Shape              Param #   \n",
            "=================================================================\n",
            " embedding_6 (Embedding)     (None, 151, 50)           181650    \n",
            "                                                                 \n",
            " gru (GRU)                   (None, 128)               69120     \n",
            "                                                                 \n",
            " dense_12 (Dense)            (None, 64)                8256      \n",
            "                                                                 \n",
            " dense_13 (Dense)            (None, 1)                 65        \n",
            "                                                                 \n",
            "=================================================================\n",
            "Total params: 259,091\n",
            "Trainable params: 259,091\n",
            "Non-trainable params: 0\n",
            "_________________________________________________________________\n"
          ]
        }
      ]
    },
    {
      "cell_type": "code",
      "metadata": {
        "id": "kX6XSah9R6Rt"
      },
      "source": [
        "model.compile(optimizer=\"adam\",loss=\"binary_crossentropy\")"
      ],
      "execution_count": 53,
      "outputs": []
    },
    {
      "cell_type": "code",
      "metadata": {
        "colab": {
          "base_uri": "https://localhost:8080/"
        },
        "id": "lcfG0bZuR6UT",
        "outputId": "ac5041c2-c7e6-4307-8352-323a45f9b454"
      },
      "source": [
        "model.fit(train_matrix,ytrain,epochs=15,batch_size=64)"
      ],
      "execution_count": 54,
      "outputs": [
        {
          "output_type": "stream",
          "name": "stdout",
          "text": [
            "Epoch 1/15\n",
            "35/35 [==============================] - 14s 270ms/step - loss: 0.4059\n",
            "Epoch 2/15\n",
            "35/35 [==============================] - 9s 271ms/step - loss: 0.2298\n",
            "Epoch 3/15\n",
            "35/35 [==============================] - 9s 271ms/step - loss: 0.1472\n",
            "Epoch 4/15\n",
            "35/35 [==============================] - 9s 268ms/step - loss: 0.0827\n",
            "Epoch 5/15\n",
            "35/35 [==============================] - 9s 269ms/step - loss: 0.0537\n",
            "Epoch 6/15\n",
            "35/35 [==============================] - 9s 268ms/step - loss: 0.0678\n",
            "Epoch 7/15\n",
            "35/35 [==============================] - 9s 269ms/step - loss: 0.0522\n",
            "Epoch 8/15\n",
            "35/35 [==============================] - 9s 269ms/step - loss: 0.0280\n",
            "Epoch 9/15\n",
            "35/35 [==============================] - 9s 269ms/step - loss: 0.0218\n",
            "Epoch 10/15\n",
            "35/35 [==============================] - 9s 269ms/step - loss: 0.0200\n",
            "Epoch 11/15\n",
            "35/35 [==============================] - 9s 269ms/step - loss: 0.0195\n",
            "Epoch 12/15\n",
            "35/35 [==============================] - 9s 268ms/step - loss: 0.0190\n",
            "Epoch 13/15\n",
            "35/35 [==============================] - 9s 269ms/step - loss: 0.0188\n",
            "Epoch 14/15\n",
            "35/35 [==============================] - 9s 270ms/step - loss: 0.0186\n",
            "Epoch 15/15\n",
            "35/35 [==============================] - 9s 268ms/step - loss: 0.0185\n"
          ]
        },
        {
          "output_type": "execute_result",
          "data": {
            "text/plain": [
              "<keras.callbacks.History at 0x7f618cada090>"
            ]
          },
          "metadata": {},
          "execution_count": 54
        }
      ]
    },
    {
      "cell_type": "code",
      "metadata": {
        "id": "-7TRP9OrR6V9"
      },
      "source": [
        "ypred=model.predict(test_matrix)"
      ],
      "execution_count": 55,
      "outputs": []
    },
    {
      "cell_type": "code",
      "metadata": {
        "id": "UF-ZiG6hR6ZZ"
      },
      "source": [
        "ypred = np.where(ypred >= 0.5,1,0)"
      ],
      "execution_count": 56,
      "outputs": []
    },
    {
      "cell_type": "code",
      "metadata": {
        "colab": {
          "base_uri": "https://localhost:8080/"
        },
        "id": "tF_tHYi_R6a-",
        "outputId": "b55690fe-f4e0-4eae-9894-204c6418f4e2"
      },
      "source": [
        "print(classification_report(ytest,ypred))"
      ],
      "execution_count": 57,
      "outputs": [
        {
          "output_type": "stream",
          "name": "stdout",
          "text": [
            "              precision    recall  f1-score   support\n",
            "\n",
            "           0       0.64      0.41      0.50        73\n",
            "           1       0.95      0.98      0.97       872\n",
            "\n",
            "    accuracy                           0.94       945\n",
            "   macro avg       0.80      0.70      0.73       945\n",
            "weighted avg       0.93      0.94      0.93       945\n",
            "\n"
          ]
        }
      ]
    },
    {
      "cell_type": "code",
      "metadata": {
        "colab": {
          "base_uri": "https://localhost:8080/"
        },
        "id": "kCnbf8SVR6ds",
        "outputId": "1de033ca-f7bb-454a-846f-5cb2856466bb"
      },
      "source": [
        "#Bidirectional GRU\n",
        "model=Sequential()\n",
        "model.add(Embedding(vocab_len+1,50,input_length=max_len,mask_zero=True))\n",
        "model.add(Bidirectional(GRU(128)))\n",
        "model.add(Dense(64,activation='tanh'))\n",
        "model.add(Dense(1,activation='sigmoid'))\n",
        "model.summary()"
      ],
      "execution_count": 58,
      "outputs": [
        {
          "output_type": "stream",
          "name": "stdout",
          "text": [
            "Model: \"sequential_7\"\n",
            "_________________________________________________________________\n",
            " Layer (type)                Output Shape              Param #   \n",
            "=================================================================\n",
            " embedding_7 (Embedding)     (None, 151, 50)           181650    \n",
            "                                                                 \n",
            " bidirectional_2 (Bidirectio  (None, 256)              138240    \n",
            " nal)                                                            \n",
            "                                                                 \n",
            " dense_14 (Dense)            (None, 64)                16448     \n",
            "                                                                 \n",
            " dense_15 (Dense)            (None, 1)                 65        \n",
            "                                                                 \n",
            "=================================================================\n",
            "Total params: 336,403\n",
            "Trainable params: 336,403\n",
            "Non-trainable params: 0\n",
            "_________________________________________________________________\n"
          ]
        }
      ]
    },
    {
      "cell_type": "code",
      "metadata": {
        "id": "7Hxm3ZtvR6fc"
      },
      "source": [
        "model.compile(optimizer=\"adam\",loss=\"binary_crossentropy\")"
      ],
      "execution_count": 59,
      "outputs": []
    },
    {
      "cell_type": "code",
      "metadata": {
        "colab": {
          "base_uri": "https://localhost:8080/"
        },
        "id": "ldyj8_Y3R6j6",
        "outputId": "feb3ddf0-b6e5-46f0-fe9e-ea6a6b5a5193"
      },
      "source": [
        "model.fit(train_matrix,ytrain,epochs=15,batch_size=64)"
      ],
      "execution_count": 60,
      "outputs": [
        {
          "output_type": "stream",
          "name": "stdout",
          "text": [
            "Epoch 1/15\n",
            "35/35 [==============================] - 26s 495ms/step - loss: 0.3799\n",
            "Epoch 2/15\n",
            "35/35 [==============================] - 17s 497ms/step - loss: 0.2200\n",
            "Epoch 3/15\n",
            "35/35 [==============================] - 17s 496ms/step - loss: 0.1124\n",
            "Epoch 4/15\n",
            "35/35 [==============================] - 17s 493ms/step - loss: 0.0496\n",
            "Epoch 5/15\n",
            "35/35 [==============================] - 17s 494ms/step - loss: 0.0299\n",
            "Epoch 6/15\n",
            "35/35 [==============================] - 17s 494ms/step - loss: 0.0275\n",
            "Epoch 7/15\n",
            "35/35 [==============================] - 17s 493ms/step - loss: 0.0206\n",
            "Epoch 8/15\n",
            "35/35 [==============================] - 17s 495ms/step - loss: 0.0194\n",
            "Epoch 9/15\n",
            "35/35 [==============================] - 17s 496ms/step - loss: 0.0189\n",
            "Epoch 10/15\n",
            "35/35 [==============================] - 17s 497ms/step - loss: 0.0187\n",
            "Epoch 11/15\n",
            "35/35 [==============================] - 17s 493ms/step - loss: 0.0185\n",
            "Epoch 12/15\n",
            "35/35 [==============================] - 17s 494ms/step - loss: 0.0184\n",
            "Epoch 13/15\n",
            "35/35 [==============================] - 17s 496ms/step - loss: 0.0183\n",
            "Epoch 14/15\n",
            "35/35 [==============================] - 17s 494ms/step - loss: 0.0182\n",
            "Epoch 15/15\n",
            "35/35 [==============================] - 17s 494ms/step - loss: 0.0182\n"
          ]
        },
        {
          "output_type": "execute_result",
          "data": {
            "text/plain": [
              "<keras.callbacks.History at 0x7f618a5e9ed0>"
            ]
          },
          "metadata": {},
          "execution_count": 60
        }
      ]
    },
    {
      "cell_type": "code",
      "metadata": {
        "id": "jkwrbEM4R6ni"
      },
      "source": [
        "ypred=model.predict(test_matrix)"
      ],
      "execution_count": 61,
      "outputs": []
    },
    {
      "cell_type": "code",
      "metadata": {
        "id": "koia6hK4-Hqn"
      },
      "source": [
        "ypred = np.where(ypred >= 0.5,1,0)"
      ],
      "execution_count": 62,
      "outputs": []
    },
    {
      "cell_type": "code",
      "metadata": {
        "colab": {
          "base_uri": "https://localhost:8080/"
        },
        "id": "GSH1TAFa-HsW",
        "outputId": "a89d8da0-3458-4ba3-86b6-62f7034b32d3"
      },
      "source": [
        "print(classification_report(ytest,ypred))"
      ],
      "execution_count": 63,
      "outputs": [
        {
          "output_type": "stream",
          "name": "stdout",
          "text": [
            "              precision    recall  f1-score   support\n",
            "\n",
            "           0       0.78      0.53      0.63        73\n",
            "           1       0.96      0.99      0.97       872\n",
            "\n",
            "    accuracy                           0.95       945\n",
            "   macro avg       0.87      0.76      0.80       945\n",
            "weighted avg       0.95      0.95      0.95       945\n",
            "\n"
          ]
        }
      ]
    },
    {
      "cell_type": "code",
      "metadata": {
        "colab": {
          "base_uri": "https://localhost:8080/"
        },
        "id": "jDpzDCpx-Hwg",
        "outputId": "dc5217f1-771b-4d92-f25a-99e7fee1f787"
      },
      "source": [
        "#Multi-layer GRU\n",
        "model=Sequential()\n",
        "model.add(Embedding(vocab_len+1,50,input_length=max_len,mask_zero=True))\n",
        "model.add(GRU(128,return_sequences=True))\n",
        "model.add(GRU(128))\n",
        "model.add(Dense(64,activation='tanh'))\n",
        "model.add(Dense(1,activation='sigmoid'))\n",
        "model.summary()"
      ],
      "execution_count": 64,
      "outputs": [
        {
          "output_type": "stream",
          "name": "stdout",
          "text": [
            "Model: \"sequential_8\"\n",
            "_________________________________________________________________\n",
            " Layer (type)                Output Shape              Param #   \n",
            "=================================================================\n",
            " embedding_8 (Embedding)     (None, 151, 50)           181650    \n",
            "                                                                 \n",
            " gru_2 (GRU)                 (None, 151, 128)          69120     \n",
            "                                                                 \n",
            " gru_3 (GRU)                 (None, 128)               99072     \n",
            "                                                                 \n",
            " dense_16 (Dense)            (None, 64)                8256      \n",
            "                                                                 \n",
            " dense_17 (Dense)            (None, 1)                 65        \n",
            "                                                                 \n",
            "=================================================================\n",
            "Total params: 358,163\n",
            "Trainable params: 358,163\n",
            "Non-trainable params: 0\n",
            "_________________________________________________________________\n"
          ]
        }
      ]
    },
    {
      "cell_type": "code",
      "metadata": {
        "id": "biWFeUHE-R9a"
      },
      "source": [
        "model.compile(optimizer=\"adam\",loss=\"binary_crossentropy\")"
      ],
      "execution_count": 65,
      "outputs": []
    },
    {
      "cell_type": "code",
      "metadata": {
        "colab": {
          "base_uri": "https://localhost:8080/"
        },
        "id": "pZhTIcim-R_c",
        "outputId": "1e9145d9-f8b7-40a6-f58f-72d44a0aa7af"
      },
      "source": [
        "model.fit(train_matrix,ytrain,epochs=15,batch_size=64)"
      ],
      "execution_count": 66,
      "outputs": [
        {
          "output_type": "stream",
          "name": "stdout",
          "text": [
            "Epoch 1/15\n",
            "35/35 [==============================] - 28s 587ms/step - loss: 0.3646\n",
            "Epoch 2/15\n",
            "35/35 [==============================] - 21s 586ms/step - loss: 0.2183\n",
            "Epoch 3/15\n",
            "35/35 [==============================] - 21s 586ms/step - loss: 0.1100\n",
            "Epoch 4/15\n",
            "35/35 [==============================] - 21s 587ms/step - loss: 0.0556\n",
            "Epoch 5/15\n",
            "35/35 [==============================] - 21s 588ms/step - loss: 0.0364\n",
            "Epoch 6/15\n",
            "35/35 [==============================] - 21s 588ms/step - loss: 0.0255\n",
            "Epoch 7/15\n",
            "35/35 [==============================] - 21s 586ms/step - loss: 0.0202\n",
            "Epoch 8/15\n",
            "35/35 [==============================] - 21s 586ms/step - loss: 0.0193\n",
            "Epoch 9/15\n",
            "35/35 [==============================] - 21s 586ms/step - loss: 0.0190\n",
            "Epoch 10/15\n",
            "35/35 [==============================] - 21s 590ms/step - loss: 0.0188\n",
            "Epoch 11/15\n",
            "35/35 [==============================] - 21s 589ms/step - loss: 0.0186\n",
            "Epoch 12/15\n",
            "35/35 [==============================] - 21s 590ms/step - loss: 0.0184\n",
            "Epoch 13/15\n",
            "35/35 [==============================] - 21s 589ms/step - loss: 0.0183\n",
            "Epoch 14/15\n",
            "35/35 [==============================] - 21s 587ms/step - loss: 0.0183\n",
            "Epoch 15/15\n",
            "35/35 [==============================] - 21s 588ms/step - loss: 0.0182\n"
          ]
        },
        {
          "output_type": "execute_result",
          "data": {
            "text/plain": [
              "<keras.callbacks.History at 0x7f6189c83cd0>"
            ]
          },
          "metadata": {},
          "execution_count": 66
        }
      ]
    },
    {
      "cell_type": "code",
      "metadata": {
        "id": "Numbe6vD-SDI"
      },
      "source": [
        "ypred=model.predict(test_matrix)"
      ],
      "execution_count": 67,
      "outputs": []
    },
    {
      "cell_type": "code",
      "metadata": {
        "id": "m_SGFbIS-SHE"
      },
      "source": [
        "ypred = np.where(ypred >= 0.5,1,0)"
      ],
      "execution_count": 68,
      "outputs": []
    },
    {
      "cell_type": "code",
      "metadata": {
        "colab": {
          "base_uri": "https://localhost:8080/"
        },
        "id": "6nBIgv_P-SKF",
        "outputId": "f5afa949-ee5e-455f-c013-589d5d670fb9"
      },
      "source": [
        "print(classification_report(ytest,ypred))"
      ],
      "execution_count": 69,
      "outputs": [
        {
          "output_type": "stream",
          "name": "stdout",
          "text": [
            "              precision    recall  f1-score   support\n",
            "\n",
            "           0       0.71      0.47      0.56        73\n",
            "           1       0.96      0.98      0.97       872\n",
            "\n",
            "    accuracy                           0.94       945\n",
            "   macro avg       0.83      0.72      0.77       945\n",
            "weighted avg       0.94      0.94      0.94       945\n",
            "\n"
          ]
        }
      ]
    }
  ]
}